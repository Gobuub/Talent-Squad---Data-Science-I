{
 "cells": [
  {
   "cell_type": "markdown",
   "id": "08fbd550",
   "metadata": {},
   "source": [
    "## Import libraries"
   ]
  },
  {
   "cell_type": "code",
   "execution_count": 1,
   "id": "b0ecbb22",
   "metadata": {},
   "outputs": [],
   "source": [
    "import pandas as pd\n",
    "import numpy as np\n",
    "import matplotlib.pyplot as plt\n",
    "import seaborn as sns\n",
    "from sklearn.model_selection import train_test_split\n",
    "from sklearn.preprocessing import MinMaxScaler\n",
    "from sklearn.linear_model import LogisticRegressionCV\n",
    "from sklearn.ensemble import RandomForestClassifier\n",
    "from xgboost import XGBRFClassifier, XGBClassifier\n",
    "from sklearn.metrics import f1_score, confusion_matrix\n",
    "\n",
    "plt.rcParams['figure.figsize']=(12, 6)\n"
   ]
  },
  {
   "cell_type": "markdown",
   "id": "6d7ee29e",
   "metadata": {},
   "source": [
    "## Data import"
   ]
  },
  {
   "cell_type": "code",
   "execution_count": 2,
   "id": "2778f12e",
   "metadata": {},
   "outputs": [],
   "source": [
    "train = pd.read_csv('data/space_X_train.csv')\n",
    "test = pd.read_csv('data/space_X_test.csv')\n",
    "sample_preds = pd.read_csv('data/ejemplo_predicciones.csv')"
   ]
  },
  {
   "cell_type": "markdown",
   "id": "a6b370e7",
   "metadata": {},
   "source": [
    "## Exploratory Data Analysis - EDA"
   ]
  },
  {
   "cell_type": "code",
   "execution_count": 3,
   "id": "6874dd57",
   "metadata": {},
   "outputs": [
    {
     "name": "stdout",
     "output_type": "stream",
     "text": [
      "<class 'pandas.core.frame.DataFrame'>\n",
      "RangeIndex: 2100 entries, 0 to 2099\n",
      "Data columns (total 8 columns):\n",
      " #   Column      Non-Null Count  Dtype  \n",
      "---  ------      --------------  -----  \n",
      " 0   Unnamed: 0  2100 non-null   int64  \n",
      " 1   sensor_1    2100 non-null   float64\n",
      " 2   sensor_2    2100 non-null   float64\n",
      " 3   sensor_3    2100 non-null   float64\n",
      " 4   sensor_4    2100 non-null   float64\n",
      " 5   sensor_5    2100 non-null   float64\n",
      " 6   sensor_6    2100 non-null   float64\n",
      " 7   target      2100 non-null   int64  \n",
      "dtypes: float64(6), int64(2)\n",
      "memory usage: 131.4 KB\n"
     ]
    }
   ],
   "source": [
    "train.info()"
   ]
  },
  {
   "cell_type": "code",
   "execution_count": 4,
   "id": "fb618040",
   "metadata": {},
   "outputs": [
    {
     "name": "stdout",
     "output_type": "stream",
     "text": [
      "<class 'pandas.core.frame.DataFrame'>\n",
      "RangeIndex: 900 entries, 0 to 899\n",
      "Data columns (total 7 columns):\n",
      " #   Column      Non-Null Count  Dtype  \n",
      "---  ------      --------------  -----  \n",
      " 0   Unnamed: 0  900 non-null    int64  \n",
      " 1   sensor_1    900 non-null    float64\n",
      " 2   sensor_2    900 non-null    float64\n",
      " 3   sensor_3    900 non-null    float64\n",
      " 4   sensor_4    900 non-null    float64\n",
      " 5   sensor_5    900 non-null    float64\n",
      " 6   sensor_6    900 non-null    float64\n",
      "dtypes: float64(6), int64(1)\n",
      "memory usage: 49.3 KB\n"
     ]
    }
   ],
   "source": [
    "test.info()"
   ]
  },
  {
   "cell_type": "code",
   "execution_count": 5,
   "id": "be37e58c",
   "metadata": {},
   "outputs": [
    {
     "name": "stdout",
     "output_type": "stream",
     "text": [
      "<class 'pandas.core.frame.DataFrame'>\n",
      "RangeIndex: 30 entries, 0 to 29\n",
      "Data columns (total 1 columns):\n",
      " #   Column        Non-Null Count  Dtype\n",
      "---  ------        --------------  -----\n",
      " 0   final_status  30 non-null     int64\n",
      "dtypes: int64(1)\n",
      "memory usage: 368.0 bytes\n"
     ]
    }
   ],
   "source": [
    "sample_preds.info()"
   ]
  },
  {
   "cell_type": "code",
   "execution_count": 6,
   "id": "81947d26",
   "metadata": {},
   "outputs": [],
   "source": [
    "train.drop('Unnamed: 0', axis=1, inplace=True)"
   ]
  },
  {
   "cell_type": "code",
   "execution_count": 7,
   "id": "afa3d059",
   "metadata": {},
   "outputs": [
    {
     "data": {
      "text/html": [
       "<div>\n",
       "<style scoped>\n",
       "    .dataframe tbody tr th:only-of-type {\n",
       "        vertical-align: middle;\n",
       "    }\n",
       "\n",
       "    .dataframe tbody tr th {\n",
       "        vertical-align: top;\n",
       "    }\n",
       "\n",
       "    .dataframe thead th {\n",
       "        text-align: right;\n",
       "    }\n",
       "</style>\n",
       "<table border=\"1\" class=\"dataframe\">\n",
       "  <thead>\n",
       "    <tr style=\"text-align: right;\">\n",
       "      <th></th>\n",
       "      <th>count</th>\n",
       "      <th>mean</th>\n",
       "      <th>std</th>\n",
       "      <th>min</th>\n",
       "      <th>25%</th>\n",
       "      <th>50%</th>\n",
       "      <th>75%</th>\n",
       "      <th>max</th>\n",
       "    </tr>\n",
       "  </thead>\n",
       "  <tbody>\n",
       "    <tr>\n",
       "      <th>sensor_1</th>\n",
       "      <td>2100.0</td>\n",
       "      <td>-0.204656</td>\n",
       "      <td>1.543613</td>\n",
       "      <td>-6.683655</td>\n",
       "      <td>-1.171340</td>\n",
       "      <td>-0.443868</td>\n",
       "      <td>0.890023</td>\n",
       "      <td>4.565547</td>\n",
       "    </tr>\n",
       "    <tr>\n",
       "      <th>sensor_2</th>\n",
       "      <td>2100.0</td>\n",
       "      <td>0.199249</td>\n",
       "      <td>1.614024</td>\n",
       "      <td>-5.383371</td>\n",
       "      <td>-0.877386</td>\n",
       "      <td>0.320507</td>\n",
       "      <td>1.321430</td>\n",
       "      <td>6.700133</td>\n",
       "    </tr>\n",
       "    <tr>\n",
       "      <th>sensor_3</th>\n",
       "      <td>2100.0</td>\n",
       "      <td>-0.378140</td>\n",
       "      <td>1.450548</td>\n",
       "      <td>-6.147055</td>\n",
       "      <td>-1.365990</td>\n",
       "      <td>-0.439745</td>\n",
       "      <td>0.662898</td>\n",
       "      <td>4.157518</td>\n",
       "    </tr>\n",
       "    <tr>\n",
       "      <th>sensor_4</th>\n",
       "      <td>2100.0</td>\n",
       "      <td>-0.206425</td>\n",
       "      <td>1.442225</td>\n",
       "      <td>-5.653594</td>\n",
       "      <td>-1.259403</td>\n",
       "      <td>-0.176504</td>\n",
       "      <td>0.866879</td>\n",
       "      <td>4.371912</td>\n",
       "    </tr>\n",
       "    <tr>\n",
       "      <th>sensor_5</th>\n",
       "      <td>2100.0</td>\n",
       "      <td>-0.186419</td>\n",
       "      <td>1.501573</td>\n",
       "      <td>-5.912521</td>\n",
       "      <td>-1.211685</td>\n",
       "      <td>-0.195751</td>\n",
       "      <td>0.851843</td>\n",
       "      <td>5.068783</td>\n",
       "    </tr>\n",
       "    <tr>\n",
       "      <th>sensor_6</th>\n",
       "      <td>2100.0</td>\n",
       "      <td>-0.433229</td>\n",
       "      <td>1.188791</td>\n",
       "      <td>-4.433189</td>\n",
       "      <td>-1.131944</td>\n",
       "      <td>-0.406754</td>\n",
       "      <td>0.348593</td>\n",
       "      <td>4.016324</td>\n",
       "    </tr>\n",
       "    <tr>\n",
       "      <th>target</th>\n",
       "      <td>2100.0</td>\n",
       "      <td>1.980476</td>\n",
       "      <td>1.410537</td>\n",
       "      <td>0.000000</td>\n",
       "      <td>1.000000</td>\n",
       "      <td>2.000000</td>\n",
       "      <td>3.000000</td>\n",
       "      <td>4.000000</td>\n",
       "    </tr>\n",
       "  </tbody>\n",
       "</table>\n",
       "</div>"
      ],
      "text/plain": [
       "           count      mean       std       min       25%       50%       75%  \\\n",
       "sensor_1  2100.0 -0.204656  1.543613 -6.683655 -1.171340 -0.443868  0.890023   \n",
       "sensor_2  2100.0  0.199249  1.614024 -5.383371 -0.877386  0.320507  1.321430   \n",
       "sensor_3  2100.0 -0.378140  1.450548 -6.147055 -1.365990 -0.439745  0.662898   \n",
       "sensor_4  2100.0 -0.206425  1.442225 -5.653594 -1.259403 -0.176504  0.866879   \n",
       "sensor_5  2100.0 -0.186419  1.501573 -5.912521 -1.211685 -0.195751  0.851843   \n",
       "sensor_6  2100.0 -0.433229  1.188791 -4.433189 -1.131944 -0.406754  0.348593   \n",
       "target    2100.0  1.980476  1.410537  0.000000  1.000000  2.000000  3.000000   \n",
       "\n",
       "               max  \n",
       "sensor_1  4.565547  \n",
       "sensor_2  6.700133  \n",
       "sensor_3  4.157518  \n",
       "sensor_4  4.371912  \n",
       "sensor_5  5.068783  \n",
       "sensor_6  4.016324  \n",
       "target    4.000000  "
      ]
     },
     "execution_count": 7,
     "metadata": {},
     "output_type": "execute_result"
    }
   ],
   "source": [
    "train.describe().T"
   ]
  },
  {
   "cell_type": "code",
   "execution_count": 8,
   "id": "ed181007",
   "metadata": {},
   "outputs": [
    {
     "data": {
      "text/html": [
       "<div>\n",
       "<style scoped>\n",
       "    .dataframe tbody tr th:only-of-type {\n",
       "        vertical-align: middle;\n",
       "    }\n",
       "\n",
       "    .dataframe tbody tr th {\n",
       "        vertical-align: top;\n",
       "    }\n",
       "\n",
       "    .dataframe thead th {\n",
       "        text-align: right;\n",
       "    }\n",
       "</style>\n",
       "<table border=\"1\" class=\"dataframe\">\n",
       "  <thead>\n",
       "    <tr style=\"text-align: right;\">\n",
       "      <th></th>\n",
       "      <th>Target</th>\n",
       "      <th>Count</th>\n",
       "    </tr>\n",
       "  </thead>\n",
       "  <tbody>\n",
       "    <tr>\n",
       "      <th>0</th>\n",
       "      <td>0</td>\n",
       "      <td>427</td>\n",
       "    </tr>\n",
       "    <tr>\n",
       "      <th>1</th>\n",
       "      <td>3</td>\n",
       "      <td>426</td>\n",
       "    </tr>\n",
       "    <tr>\n",
       "      <th>2</th>\n",
       "      <td>1</td>\n",
       "      <td>423</td>\n",
       "    </tr>\n",
       "    <tr>\n",
       "      <th>3</th>\n",
       "      <td>2</td>\n",
       "      <td>419</td>\n",
       "    </tr>\n",
       "    <tr>\n",
       "      <th>4</th>\n",
       "      <td>4</td>\n",
       "      <td>405</td>\n",
       "    </tr>\n",
       "  </tbody>\n",
       "</table>\n",
       "</div>"
      ],
      "text/plain": [
       "   Target  Count\n",
       "0       0    427\n",
       "1       3    426\n",
       "2       1    423\n",
       "3       2    419\n",
       "4       4    405"
      ]
     },
     "execution_count": 8,
     "metadata": {},
     "output_type": "execute_result"
    }
   ],
   "source": [
    "target_exp = pd.DataFrame(train.target.value_counts()).reset_index()\n",
    "target_exp.columns = ['Target', 'Count']\n",
    "target_exp"
   ]
  },
  {
   "cell_type": "markdown",
   "id": "e03cea69",
   "metadata": {},
   "source": [
    "## EDA target column"
   ]
  },
  {
   "cell_type": "code",
   "execution_count": 9,
   "id": "56618c6c",
   "metadata": {
    "scrolled": true
   },
   "outputs": [
    {
     "data": {
      "image/png": "[encoded data removed]",
      "text/plain": [
       "<Figure size 432x288 with 1 Axes>"
      ]
     },
     "metadata": {
      "needs_background": "light"
     },
     "output_type": "display_data"
    }
   ],
   "source": [
    "sns.countplot(x=train.target, palette='Reds')\n",
    "\n",
    "plt.xticks(rotation=35);"
   ]
  },
  {
   "cell_type": "markdown",
   "id": "fa75c93c",
   "metadata": {},
   "source": [
    "#### We can see that the data are balance, so i think is not necessary to apply neither algorithm to balance its."
   ]
  },
  {
   "cell_type": "code",
   "execution_count": 10,
   "id": "deb50ce8",
   "metadata": {},
   "outputs": [],
   "source": [
    "corr = train.corr()"
   ]
  },
  {
   "cell_type": "code",
   "execution_count": 11,
   "id": "a4ca036f",
   "metadata": {},
   "outputs": [
    {
     "data": {
      "image/png": "[encoded data removed]",
      "text/plain": [
       "<Figure size 432x288 with 2 Axes>"
      ]
     },
     "metadata": {},
     "output_type": "display_data"
    }
   ],
   "source": [
    "sns.set(style='white')  # estilo blanco\n",
    "\n",
    "mask=np.triu(np.ones_like(corr, dtype=bool)) # genera una mascara para ocultar la triangular superior\n",
    "\n",
    "cmap=sns.diverging_palette(0, 10, as_cmap=True) # paleta de colores con degradado\n",
    "\n",
    "\n",
    "# heatmap o mapa de calor\n",
    "\n",
    "sns.heatmap(corr,\n",
    "            mask=mask,\n",
    "            cmap=cmap,\n",
    "            vmax=0.5,\n",
    "            center=0, \n",
    "            square=True,\n",
    "            linewidths=.5,\n",
    "            cbar_kws={'shrink': .5},\n",
    "            annot=True);"
   ]
  },
  {
   "cell_type": "markdown",
   "id": "4cb968d0",
   "metadata": {},
   "source": [
    "### After evaluate the correlation between columns, we can see that some columns have a relative correlation but we can keep it, because it didn't have relevance"
   ]
  },
  {
   "cell_type": "markdown",
   "id": "0a859dc5",
   "metadata": {},
   "source": [
    "## Models training"
   ]
  },
  {
   "cell_type": "markdown",
   "id": "f732b5e5",
   "metadata": {},
   "source": [
    "### For this case i choose three models for training, RandomForest Classifier, XGBoost Classifier, and XGBoostRF Classifier"
   ]
  },
  {
   "cell_type": "code",
   "execution_count": 12,
   "id": "97697fb3",
   "metadata": {},
   "outputs": [],
   "source": [
    "lr = LogisticRegressionCV()\n",
    "rf = RandomForestClassifier()\n",
    "xgbc = XGBClassifier()\n",
    "xgbrfc = XGBRFClassifier()\n",
    "\n",
    "models = [lr, rf, xgbc, xgbrfc]"
   ]
  },
  {
   "cell_type": "code",
   "execution_count": 13,
   "id": "c1cc19cc",
   "metadata": {},
   "outputs": [
    {
     "data": {
      "text/plain": [
       "((2100, 6), (2100,))"
      ]
     },
     "execution_count": 13,
     "metadata": {},
     "output_type": "execute_result"
    }
   ],
   "source": [
    "X = train.drop('target', axis=1)\n",
    "y = train.target\n",
    "X.shape, y.shape"
   ]
  },
  {
   "cell_type": "code",
   "execution_count": 14,
   "id": "8f67fdf6",
   "metadata": {},
   "outputs": [],
   "source": [
    "X_train, X_test, y_train, y_test = train_test_split(X,y, random_state=42, stratify=y, test_size=0.2)"
   ]
  },
  {
   "cell_type": "code",
   "execution_count": 15,
   "id": "9127c179",
   "metadata": {},
   "outputs": [
    {
     "name": "stdout",
     "output_type": "stream",
     "text": [
      "Initialize training of LogisticRegress ........\n",
      "\n",
      "Model trained :)\n",
      "\n",
      "-----------Resultados para el modelo LogisticRegress-----------\n",
      "\n",
      "f_1 score: 0.49730464681524966\n",
      "--------------------------------------------------------\n",
      "\n",
      "-----------Confusion Matrix of LogisticRegress ---------------------------\n",
      "\n"
     ]
    },
    {
     "data": {
      "image/png": "[encoded data removed]",
      "text/plain": [
       "<Figure size 432x288 with 2 Axes>"
      ]
     },
     "metadata": {},
     "output_type": "display_data"
    },
    {
     "name": "stdout",
     "output_type": "stream",
     "text": [
      "--------------------------------------------------------\n",
      "\n",
      "Initialize training of RandomForestCla ........\n",
      "\n",
      "Model trained :)\n",
      "\n",
      "-----------Resultados para el modelo RandomForestCla-----------\n",
      "\n",
      "f_1 score: 0.7716580473042376\n",
      "--------------------------------------------------------\n",
      "\n",
      "-----------Confusion Matrix of RandomForestCla ---------------------------\n",
      "\n"
     ]
    },
    {
     "data": {
      "image/png": "[encoded data removed]",
      "text/plain": [
       "<Figure size 576x576 with 2 Axes>"
      ]
     },
     "metadata": {},
     "output_type": "display_data"
    },
    {
     "name": "stdout",
     "output_type": "stream",
     "text": [
      "--------------------------------------------------------\n",
      "\n",
      "Initialize training of XGBClassifier(b ........\n",
      "\n",
      "Model trained :)\n",
      "\n",
      "-----------Resultados para el modelo XGBClassifier(b-----------\n",
      "\n",
      "f_1 score: 0.7928974812464343\n",
      "--------------------------------------------------------\n",
      "\n",
      "-----------Confusion Matrix of XGBClassifier(b ---------------------------\n",
      "\n"
     ]
    },
    {
     "data": {
      "image/png": "[encoded data removed]",
      "text/plain": [
       "<Figure size 576x576 with 2 Axes>"
      ]
     },
     "metadata": {},
     "output_type": "display_data"
    },
    {
     "name": "stdout",
     "output_type": "stream",
     "text": [
      "--------------------------------------------------------\n",
      "\n",
      "Initialize training of XGBRFClassifier ........\n",
      "\n",
      "Model trained :)\n",
      "\n",
      "-----------Resultados para el modelo XGBRFClassifier-----------\n",
      "\n",
      "f_1 score: 0.7689491674082034\n",
      "--------------------------------------------------------\n",
      "\n",
      "-----------Confusion Matrix of XGBRFClassifier ---------------------------\n",
      "\n"
     ]
    },
    {
     "data": {
      "image/png": "[encoded data removed]",
      "text/plain": [
       "<Figure size 576x576 with 2 Axes>"
      ]
     },
     "metadata": {},
     "output_type": "display_data"
    },
    {
     "name": "stdout",
     "output_type": "stream",
     "text": [
      "--------------------------------------------------------\n",
      "\n"
     ]
    }
   ],
   "source": [
    "for model in models:\n",
    "    name = str(model)[:15]\n",
    "    \n",
    "    print(f'Initialize training of {name} ........\\n')\n",
    "    \n",
    "    model.fit(X_train, y_train)\n",
    "    \n",
    "    print('Model trained :)\\n')\n",
    "    \n",
    "    model_pred = model.predict(X_test)\n",
    "    f1_model = f1_score(y_test, model_pred, average='macro')\n",
    "    cm_model = confusion_matrix(y_test, model_pred)\n",
    "    \n",
    "    print(f'-----------Resultados para el modelo {name}-----------\\n')\n",
    "\n",
    "    print(f'f_1 score: {f1_model}')\n",
    "    \n",
    "    print('--------------------------------------------------------\\n')\n",
    "    \n",
    "    print(f'-----------Confusion Matrix of {name} ---------------------------\\n')\n",
    "    sns.heatmap(cm_model, annot=True)\n",
    "    sns.set(rc={'figure.figsize':(8,8)})\n",
    "    plt.title(f'{name} Confusion Matrix Results')\n",
    "    plt.ylabel('Truth')\n",
    "    plt.xlabel('Prediction')\n",
    "    plt.show();\n",
    "    \n",
    "    print('--------------------------------------------------------\\n')\n",
    "    \n",
    "    "
   ]
  },
  {
   "cell_type": "markdown",
   "id": "3df085c7",
   "metadata": {},
   "source": [
    "### Gridsearch "
   ]
  },
  {
   "cell_type": "code",
   "execution_count": 16,
   "id": "9609e403",
   "metadata": {},
   "outputs": [],
   "source": [
    "from sklearn.model_selection import GridSearchCV, RandomizedSearchCV\n",
    "n_estimators=[int(x) for x in np.linspace(200, 2000, 10)]\n",
    "\n",
    "criterion = ['gini', 'entropy']\n",
    "\n",
    "max_depth = [int(x) for x in np.linspace(10, 200, 10)]\n",
    "\n",
    "min_samples_split = [int(x) for x in np.linspace(2, 10, 1)]\n",
    "\n",
    "min_samples_leaf = [int(x) for x in np.linspace(1, 10, 1)]\n",
    "\n",
    "max_features = ['auto', 'sqrt', 'log2']\n",
    "\n",
    "bootstrap = [True, False]\n",
    "\n",
    "warm_start = [True, False]"
   ]
  },
  {
   "cell_type": "code",
   "execution_count": 17,
   "id": "e571ecc3",
   "metadata": {},
   "outputs": [],
   "source": [
    "random_grid={'n_estimators': n_estimators,\n",
    "             'criterion': criterion,\n",
    "             'max_depth': max_depth,\n",
    "             'min_samples_split': min_samples_split,\n",
    "             'min_samples_leaf': min_samples_leaf,\n",
    "             'max_features': max_features,\n",
    "             'bootstrap': bootstrap,\n",
    "             'warm_start': warm_start,\n",
    "             }"
   ]
  },
  {
   "cell_type": "code",
   "execution_count": 18,
   "id": "ef9478a3",
   "metadata": {},
   "outputs": [],
   "source": [
    "rf_random=RandomizedSearchCV(estimator=rf,\n",
    "                             param_distributions=random_grid,\n",
    "                             n_iter=100,\n",
    "                             cv=5,\n",
    "                             verbose=10,\n",
    "                             n_jobs=-1,\n",
    "                             scoring='f1_macro')"
   ]
  },
  {
   "cell_type": "code",
   "execution_count": null,
   "id": "c213eccb",
   "metadata": {
    "scrolled": true
   },
   "outputs": [],
   "source": [
    "rf_random.fit(X_train, y_train)"
   ]
  },
  {
   "cell_type": "code",
   "execution_count": null,
   "id": "0aa249ff",
   "metadata": {},
   "outputs": [],
   "source": [
    "rf_random.best_params_"
   ]
  },
  {
   "cell_type": "code",
   "execution_count": null,
   "id": "f87c71ad",
   "metadata": {},
   "outputs": [],
   "source": [
    "rf_random.best_score_"
   ]
  },
  {
   "cell_type": "code",
   "execution_count": null,
   "id": "8710c1e5",
   "metadata": {},
   "outputs": [],
   "source": [
    "pred = rf_random.predict(X_test)"
   ]
  },
  {
   "cell_type": "code",
   "execution_count": null,
   "id": "a91b05c9",
   "metadata": {},
   "outputs": [],
   "source": [
    "\n",
    "f1_rf_random = f1_score(y_test, pred, average='macro')\n",
    "cm_rf_random = confusion_matrix(y_test, pred)\n",
    "\n",
    "print(f'-----------Resultados para el modelo completo rf_random-----------')\n",
    "print(f'f_1 score: {f1_rf_random}')\n",
    "print('--------------------------------------------------------')"
   ]
  },
  {
   "cell_type": "markdown",
   "id": "7d58cb09",
   "metadata": {},
   "source": [
    "### Scale the data looking for better perfomance on models"
   ]
  },
  {
   "cell_type": "code",
   "execution_count": 19,
   "id": "c30f3e31",
   "metadata": {},
   "outputs": [],
   "source": [
    "scaler = MinMaxScaler()\n",
    "scaler.fit(X_train)\n",
    "X_train_scal = scaler.transform(X_train)\n",
    "X_test_scal = scaler.transform(X_test)"
   ]
  },
  {
   "cell_type": "code",
   "execution_count": 20,
   "id": "2cb118a2",
   "metadata": {},
   "outputs": [
    {
     "name": "stdout",
     "output_type": "stream",
     "text": [
      "Initialize training of LogisticRegress ........\n",
      "\n"
     ]
    },
    {
     "name": "stderr",
     "output_type": "stream",
     "text": [
      "C:\\Users\\botic\\anaconda3\\envs\\nlp_env\\lib\\site-packages\\sklearn\\linear_model\\_logistic.py:444: ConvergenceWarning: lbfgs failed to converge (status=1):\n",
      "STOP: TOTAL NO. of ITERATIONS REACHED LIMIT.\n",
      "\n",
      "Increase the number of iterations (max_iter) or scale the data as shown in:\n",
      "    https://scikit-learn.org/stable/modules/preprocessing.html\n",
      "Please also refer to the documentation for alternative solver options:\n",
      "    https://scikit-learn.org/stable/modules/linear_model.html#logistic-regression\n",
      "  n_iter_i = _check_optimize_result(\n",
      "C:\\Users\\botic\\anaconda3\\envs\\nlp_env\\lib\\site-packages\\sklearn\\linear_model\\_logistic.py:444: ConvergenceWarning: lbfgs failed to converge (status=1):\n",
      "STOP: TOTAL NO. of ITERATIONS REACHED LIMIT.\n",
      "\n",
      "Increase the number of iterations (max_iter) or scale the data as shown in:\n",
      "    https://scikit-learn.org/stable/modules/preprocessing.html\n",
      "Please also refer to the documentation for alternative solver options:\n",
      "    https://scikit-learn.org/stable/modules/linear_model.html#logistic-regression\n",
      "  n_iter_i = _check_optimize_result(\n",
      "C:\\Users\\botic\\anaconda3\\envs\\nlp_env\\lib\\site-packages\\sklearn\\linear_model\\_logistic.py:444: ConvergenceWarning: lbfgs failed to converge (status=1):\n",
      "STOP: TOTAL NO. of ITERATIONS REACHED LIMIT.\n",
      "\n",
      "Increase the number of iterations (max_iter) or scale the data as shown in:\n",
      "    https://scikit-learn.org/stable/modules/preprocessing.html\n",
      "Please also refer to the documentation for alternative solver options:\n",
      "    https://scikit-learn.org/stable/modules/linear_model.html#logistic-regression\n",
      "  n_iter_i = _check_optimize_result(\n",
      "C:\\Users\\botic\\anaconda3\\envs\\nlp_env\\lib\\site-packages\\sklearn\\linear_model\\_logistic.py:444: ConvergenceWarning: lbfgs failed to converge (status=1):\n",
      "STOP: TOTAL NO. of ITERATIONS REACHED LIMIT.\n",
      "\n",
      "Increase the number of iterations (max_iter) or scale the data as shown in:\n",
      "    https://scikit-learn.org/stable/modules/preprocessing.html\n",
      "Please also refer to the documentation for alternative solver options:\n",
      "    https://scikit-learn.org/stable/modules/linear_model.html#logistic-regression\n",
      "  n_iter_i = _check_optimize_result(\n",
      "C:\\Users\\botic\\anaconda3\\envs\\nlp_env\\lib\\site-packages\\sklearn\\linear_model\\_logistic.py:444: ConvergenceWarning: lbfgs failed to converge (status=1):\n",
      "STOP: TOTAL NO. of ITERATIONS REACHED LIMIT.\n",
      "\n",
      "Increase the number of iterations (max_iter) or scale the data as shown in:\n",
      "    https://scikit-learn.org/stable/modules/preprocessing.html\n",
      "Please also refer to the documentation for alternative solver options:\n",
      "    https://scikit-learn.org/stable/modules/linear_model.html#logistic-regression\n",
      "  n_iter_i = _check_optimize_result(\n"
     ]
    },
    {
     "name": "stdout",
     "output_type": "stream",
     "text": [
      "Model trained :)\n",
      "\n",
      "-----------Resultados para el modelo LogisticRegress-----------\n",
      "\n",
      "f_1 score: 0.4944860243397546\n",
      "--------------------------------------------------------\n",
      "\n",
      "-----------Confusion Matrix of LogisticRegress ---------------------------\n",
      "\n"
     ]
    },
    {
     "data": {
      "image/png": "[encoded data removed]",
      "text/plain": [
       "<Figure size 576x576 with 2 Axes>"
      ]
     },
     "metadata": {},
     "output_type": "display_data"
    },
    {
     "name": "stdout",
     "output_type": "stream",
     "text": [
      "--------------------------------------------------------\n",
      "\n",
      "Initialize training of RandomForestCla ........\n",
      "\n",
      "Model trained :)\n",
      "\n",
      "-----------Resultados para el modelo RandomForestCla-----------\n",
      "\n",
      "f_1 score: 0.7794020943777695\n",
      "--------------------------------------------------------\n",
      "\n",
      "-----------Confusion Matrix of RandomForestCla ---------------------------\n",
      "\n"
     ]
    },
    {
     "data": {
      "image/png": "[encoded data removed]",
      "text/plain": [
       "<Figure size 576x576 with 2 Axes>"
      ]
     },
     "metadata": {},
     "output_type": "display_data"
    },
    {
     "name": "stdout",
     "output_type": "stream",
     "text": [
      "--------------------------------------------------------\n",
      "\n",
      "Initialize training of XGBClassifier(b ........\n",
      "\n",
      "Model trained :)\n",
      "\n",
      "-----------Resultados para el modelo XGBClassifier(b-----------\n",
      "\n",
      "f_1 score: 0.7926885743591765\n",
      "--------------------------------------------------------\n",
      "\n",
      "-----------Confusion Matrix of XGBClassifier(b ---------------------------\n",
      "\n"
     ]
    },
    {
     "data": {
      "image/png": "[encoded data removed]",
      "text/plain": [
       "<Figure size 576x576 with 2 Axes>"
      ]
     },
     "metadata": {},
     "output_type": "display_data"
    },
    {
     "name": "stdout",
     "output_type": "stream",
     "text": [
      "--------------------------------------------------------\n",
      "\n",
      "Initialize training of XGBRFClassifier ........\n",
      "\n",
      "Model trained :)\n",
      "\n",
      "-----------Resultados para el modelo XGBRFClassifier-----------\n",
      "\n",
      "f_1 score: 0.7689491674082034\n",
      "--------------------------------------------------------\n",
      "\n",
      "-----------Confusion Matrix of XGBRFClassifier ---------------------------\n",
      "\n"
     ]
    },
    {
     "data": {
      "image/png": "[encoded data removed]",
      "text/plain": [
       "<Figure size 576x576 with 2 Axes>"
      ]
     },
     "metadata": {},
     "output_type": "display_data"
    },
    {
     "name": "stdout",
     "output_type": "stream",
     "text": [
      "--------------------------------------------------------\n",
      "\n"
     ]
    }
   ],
   "source": [
    "for model in models:\n",
    "    name = str(model)[:15]\n",
    "    \n",
    "    print(f'Initialize training of {name} ........\\n')\n",
    "    \n",
    "    model.fit(X_train_scal, y_train)\n",
    "    \n",
    "    print('Model trained :)\\n')\n",
    "    \n",
    "    model_pred = model.predict(X_test_scal)\n",
    "    f1_model = f1_score(y_test, model_pred, average='macro')\n",
    "    cm_model = confusion_matrix(y_test, model_pred)\n",
    "    \n",
    "    print(f'-----------Resultados para el modelo {name}-----------\\n')\n",
    "\n",
    "    print(f'f_1 score: {f1_model}')\n",
    "    \n",
    "    print('--------------------------------------------------------\\n')\n",
    "    \n",
    "    print(f'-----------Confusion Matrix of {name} ---------------------------\\n')\n",
    "    sns.heatmap(cm_model, annot=True)\n",
    "    sns.set(rc={'figure.figsize':(8,8)})\n",
    "    plt.title(f'{name} Confusion Matrix Results')\n",
    "    plt.ylabel('Truth')\n",
    "    plt.xlabel('Prediction')\n",
    "    plt.show();\n",
    "    \n",
    "    print('--------------------------------------------------------\\n')"
   ]
  },
  {
   "cell_type": "code",
   "execution_count": null,
   "id": "53c0d23f",
   "metadata": {},
   "outputs": [],
   "source": [
    "rf_random=RandomizedSearchCV(estimator=rf,\n",
    "                             param_distributions=random_grid,\n",
    "                             n_iter=100,\n",
    "                             cv=5,\n",
    "                             verbose=10,\n",
    "                             n_jobs=-1,\n",
    "                             scoring='f1_macro')"
   ]
  },
  {
   "cell_type": "code",
   "execution_count": null,
   "id": "9b1030ac",
   "metadata": {
    "scrolled": true
   },
   "outputs": [],
   "source": [
    "rf_random.fit(X_train_scal, y_train)"
   ]
  },
  {
   "cell_type": "code",
   "execution_count": null,
   "id": "760ab1d5",
   "metadata": {},
   "outputs": [],
   "source": [
    "rf_random.best_params_"
   ]
  },
  {
   "cell_type": "code",
   "execution_count": null,
   "id": "6657de14",
   "metadata": {},
   "outputs": [],
   "source": [
    "rf_random.best_score_"
   ]
  },
  {
   "cell_type": "code",
   "execution_count": null,
   "id": "a5d43cd7",
   "metadata": {},
   "outputs": [],
   "source": [
    "pred = rf_random.predict(X_test_scal)"
   ]
  },
  {
   "cell_type": "code",
   "execution_count": null,
   "id": "65af1e04",
   "metadata": {},
   "outputs": [],
   "source": [
    "f1_rf_random = f1_score(y_test, pred, average='macro')\n",
    "cm_rf_random = confusion_matrix(y_test, pred)\n",
    "\n",
    "print(f'-----------Resultados para el modelo completo rf_random-----------')\n",
    "print(f'f_1 score: {f1_rf_random}')\n",
    "print('--------------------------------------------------------')"
   ]
  },
  {
   "cell_type": "markdown",
   "id": "e3004c22",
   "metadata": {},
   "source": [
    "### Final results"
   ]
  },
  {
   "cell_type": "code",
   "execution_count": 21,
   "id": "6aa1b38b",
   "metadata": {},
   "outputs": [
    {
     "data": {
      "text/plain": [
       "0.7794020943777695"
      ]
     },
     "execution_count": 21,
     "metadata": {},
     "output_type": "execute_result"
    }
   ],
   "source": [
    "pred = rf.predict(X_test_scal)\n",
    "f1_score(y_test, pred, average='macro')"
   ]
  },
  {
   "cell_type": "code",
   "execution_count": 22,
   "id": "ef444336",
   "metadata": {},
   "outputs": [
    {
     "data": {
      "text/plain": [
       "0.7926885743591765"
      ]
     },
     "execution_count": 22,
     "metadata": {},
     "output_type": "execute_result"
    }
   ],
   "source": [
    "xgbc_pred = xgbc.predict(X_test_scal)\n",
    "f1_score(y_test, xgbc_pred, average='macro')"
   ]
  },
  {
   "cell_type": "code",
   "execution_count": 23,
   "id": "00413a85",
   "metadata": {},
   "outputs": [
    {
     "data": {
      "text/plain": [
       "0.7689491674082034"
      ]
     },
     "execution_count": 23,
     "metadata": {},
     "output_type": "execute_result"
    }
   ],
   "source": [
    "xgbrfc_pred = xgbrfc.predict(X_test_scal)\n",
    "f1_score(y_test, xgbrfc_pred, average='macro')"
   ]
  },
  {
   "cell_type": "code",
   "execution_count": 24,
   "id": "3ea0207b",
   "metadata": {},
   "outputs": [],
   "source": [
    "test = test.drop('Unnamed: 0', axis=1)"
   ]
  },
  {
   "cell_type": "code",
   "execution_count": 25,
   "id": "dac82e09",
   "metadata": {},
   "outputs": [],
   "source": [
    "test_scaled = scaler.transform(test)"
   ]
  },
  {
   "cell_type": "code",
   "execution_count": 42,
   "id": "629d2352",
   "metadata": {},
   "outputs": [],
   "source": [
    "pred = pred = rf.predict(test_scaled)"
   ]
  },
  {
   "cell_type": "code",
   "execution_count": 43,
   "id": "c08ce69f",
   "metadata": {},
   "outputs": [],
   "source": [
    "results = pd.DataFrame(pred, columns=['final_status'])"
   ]
  },
  {
   "cell_type": "code",
   "execution_count": 44,
   "id": "e5c4f17d",
   "metadata": {},
   "outputs": [
    {
     "data": {
      "text/html": [
       "<div>\n",
       "<style scoped>\n",
       "    .dataframe tbody tr th:only-of-type {\n",
       "        vertical-align: middle;\n",
       "    }\n",
       "\n",
       "    .dataframe tbody tr th {\n",
       "        vertical-align: top;\n",
       "    }\n",
       "\n",
       "    .dataframe thead th {\n",
       "        text-align: right;\n",
       "    }\n",
       "</style>\n",
       "<table border=\"1\" class=\"dataframe\">\n",
       "  <thead>\n",
       "    <tr style=\"text-align: right;\">\n",
       "      <th></th>\n",
       "      <th>final_status</th>\n",
       "    </tr>\n",
       "  </thead>\n",
       "  <tbody>\n",
       "    <tr>\n",
       "      <th>0</th>\n",
       "      <td>1</td>\n",
       "    </tr>\n",
       "    <tr>\n",
       "      <th>1</th>\n",
       "      <td>3</td>\n",
       "    </tr>\n",
       "    <tr>\n",
       "      <th>2</th>\n",
       "      <td>2</td>\n",
       "    </tr>\n",
       "    <tr>\n",
       "      <th>3</th>\n",
       "      <td>0</td>\n",
       "    </tr>\n",
       "    <tr>\n",
       "      <th>4</th>\n",
       "      <td>3</td>\n",
       "    </tr>\n",
       "    <tr>\n",
       "      <th>...</th>\n",
       "      <td>...</td>\n",
       "    </tr>\n",
       "    <tr>\n",
       "      <th>895</th>\n",
       "      <td>3</td>\n",
       "    </tr>\n",
       "    <tr>\n",
       "      <th>896</th>\n",
       "      <td>4</td>\n",
       "    </tr>\n",
       "    <tr>\n",
       "      <th>897</th>\n",
       "      <td>0</td>\n",
       "    </tr>\n",
       "    <tr>\n",
       "      <th>898</th>\n",
       "      <td>3</td>\n",
       "    </tr>\n",
       "    <tr>\n",
       "      <th>899</th>\n",
       "      <td>4</td>\n",
       "    </tr>\n",
       "  </tbody>\n",
       "</table>\n",
       "<p>900 rows × 1 columns</p>\n",
       "</div>"
      ],
      "text/plain": [
       "     final_status\n",
       "0               1\n",
       "1               3\n",
       "2               2\n",
       "3               0\n",
       "4               3\n",
       "..            ...\n",
       "895             3\n",
       "896             4\n",
       "897             0\n",
       "898             3\n",
       "899             4\n",
       "\n",
       "[900 rows x 1 columns]"
      ]
     },
     "execution_count": 44,
     "metadata": {},
     "output_type": "execute_result"
    }
   ],
   "source": [
    "results"
   ]
  },
  {
   "cell_type": "code",
   "execution_count": 45,
   "id": "3046f149",
   "metadata": {},
   "outputs": [
    {
     "data": {
      "image/png": "[encoded data removed]",
      "text/plain": [
       "<Figure size 576x576 with 1 Axes>"
      ]
     },
     "metadata": {},
     "output_type": "display_data"
    }
   ],
   "source": [
    "sns.countplot(x=results.final_status, palette='Reds')\n",
    "\n",
    "plt.xticks(rotation=35);"
   ]
  },
  {
   "cell_type": "code",
   "execution_count": 46,
   "id": "9862185e",
   "metadata": {},
   "outputs": [],
   "source": [
    "results.to_csv('predictions.csv', index=False)"
   ]
  },
  {
   "cell_type": "code",
   "execution_count": null,
   "id": "705b9d60",
   "metadata": {},
   "outputs": [],
   "source": []
  }
 ],
 "metadata": {
  "kernelspec": {
   "display_name": "Python 3 (ipykernel)",
   "language": "python",
   "name": "python3"
  },
  "language_info": {
   "codemirror_mode": {
    "name": "ipython",
    "version": 3
   },
   "file_extension": ".py",
   "mimetype": "text/x-python",
   "name": "python",
   "nbconvert_exporter": "python",
   "pygments_lexer": "ipython3",
   "version": "3.9.12"
  }
 },
 "nbformat": 4,
 "nbformat_minor": 5
}
